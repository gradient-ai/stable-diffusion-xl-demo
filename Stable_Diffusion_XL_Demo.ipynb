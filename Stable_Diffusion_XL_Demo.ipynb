{
 "cells": [
  {
   "cell_type": "markdown",
   "source": [
    "# Stable Diffusion XL Web Demo on Colab\n",
    "Skip the queue free of charge (the free T4 GPU on Colab works, using high RAM and better GPUs make it more stable and faster)!\n",
    "\n",
    "Note that to get SD XL weights, you need to [submit a quick form](https://huggingface.co/stabilityai/stable-diffusion-xl-base-0.9) and set up a [HuggingFace access token](https://huggingface.co/docs/hub/security-tokens). Leaked weights seem to be available on [reddit](https://www.reddit.com/r/StableDiffusion/comments/14s04t1/happy_sdxl_leak_day/), but I have not used/tested them.\n",
    "\n",
    "Remember to select a GPU in Colab runtime type.\n",
    "Of course you can download the notebook and run locally.\n",
    "\n",
    "Note that this demo generates 4 images at a time by default. Change the settings in the Web UI to generate fewer images to make things faster and save some memory.\n",
    "\n",
    "Support this demo by giving the repo a star: https://github.com/TonyLianLong/stable-diffusion-xl-demo\n",
    "\n",
    "\n",
    "**You need to put your access token here:**"
   ],
   "metadata": {
    "id": "R1Kus3q-Sl9a"
   }
  },
  {
   "cell_type": "code",
   "execution_count": 1,
   "source": [
    "access_token=\"your token here\""
   ],
   "outputs": [],
   "metadata": {
    "execution": {
     "iopub.execute_input": "2023-07-07T22:27:19.905376Z",
     "iopub.status.busy": "2023-07-07T22:27:19.905042Z",
     "iopub.status.idle": "2023-07-07T22:27:19.914271Z",
     "shell.execute_reply": "2023-07-07T22:27:19.912977Z",
     "shell.execute_reply.started": "2023-07-07T22:27:19.905350Z"
    },
    "id": "C-SrHtOFO_2U"
   }
  },
  {
   "cell_type": "code",
   "execution_count": 2,
   "source": [
    "# !git clone https://github.com/TonyLianLong/stable-diffusion-xl-demo\n",
    "%cd stable-diffusion-xl-demo\n",
    "\n",
    "!pip install -r requirements.txt\n",
    "!pip install -U omegaconf einops transformers pydantic open_clip_torch"
   ],
   "outputs": [
    {
     "output_type": "stream",
     "name": "stdout",
     "text": [
      "[Errno 2] No such file or directory: 'stable-diffusion-xl-demo'\n",
      "/notebooks/stable-diffusion-xl-demo\n",
      "Collecting git+https://github.com/huggingface/diffusers.git (from -r requirements.txt (line 10))\n",
      "  Cloning https://github.com/huggingface/diffusers.git to /tmp/pip-req-build-uaik4ymn\n",
      "  Running command git clone --filter=blob:none --quiet https://github.com/huggingface/diffusers.git /tmp/pip-req-build-uaik4ymn\n",
      "  Resolved https://github.com/huggingface/diffusers.git to commit 78922ed7c7e66c20aa95159c7b7a6057ba7d590d\n",
      "  Installing build dependencies ... \u001b[?25ldone\n",
      "\u001b[?25h  Getting requirements to build wheel ... \u001b[?25ldone\n",
      "\u001b[?25h  Preparing metadata (pyproject.toml) ... \u001b[?25ldone\n",
      "\u001b[?25hCollecting python-dotenv\n",
      "  Downloading python_dotenv-1.0.0-py3-none-any.whl (19 kB)\n",
      "Collecting accelerate\n",
      "  Downloading accelerate-0.20.3-py3-none-any.whl (227 kB)\n",
      "\u001b[2K     \u001b[90m━━━━━━━━━━━━━━━━━━━━━━━━━━━━━━━━━━━━━━\u001b[0m \u001b[32m227.6/227.6 kB\u001b[0m \u001b[31m19.8 MB/s\u001b[0m eta \u001b[36m0:00:00\u001b[0m\n",
      "\u001b[?25hRequirement already satisfied: transformers in /usr/local/lib/python3.9/dist-packages (from -r requirements.txt (line 3)) (4.21.3)\n",
      "Collecting invisible-watermark\n",
      "  Downloading invisible_watermark-0.2.0-py3-none-any.whl (1.6 MB)\n",
      "\u001b[2K     \u001b[90m━━━━━━━━━━━━━━━━━━━━━━━━━━━━━━━━━━━━━━━━\u001b[0m \u001b[32m1.6/1.6 MB\u001b[0m \u001b[31m75.5 MB/s\u001b[0m eta \u001b[36m0:00:00\u001b[0m\n",
      "\u001b[?25hRequirement already satisfied: numpy>=1.17 in /usr/local/lib/python3.9/dist-packages (from -r requirements.txt (line 5)) (1.23.4)\n",
      "Requirement already satisfied: PyWavelets>=1.1.1 in /usr/local/lib/python3.9/dist-packages (from -r requirements.txt (line 6)) (1.4.1)\n",
      "Requirement already satisfied: opencv-python>=4.1.0.25 in /usr/local/lib/python3.9/dist-packages (from -r requirements.txt (line 7)) (4.6.0.66)\n",
      "Collecting safetensors\n",
      "  Downloading safetensors-0.3.1-cp39-cp39-manylinux_2_17_x86_64.manylinux2014_x86_64.whl (1.3 MB)\n",
      "\u001b[2K     \u001b[90m━━━━━━━━━━━━━━━━━━━━━━━━━━━━━━━━━━━━━━━━\u001b[0m \u001b[32m1.3/1.3 MB\u001b[0m \u001b[31m67.6 MB/s\u001b[0m eta \u001b[36m0:00:00\u001b[0m\n",
      "\u001b[?25hCollecting gradio==3.11.0\n",
      "  Downloading gradio-3.11.0-py3-none-any.whl (11.6 MB)\n",
      "\u001b[2K     \u001b[90m━━━━━━━━━━━━━━━━━━━━━━━━━━━━━━━━━━━━━━━━\u001b[0m \u001b[32m11.6/11.6 MB\u001b[0m \u001b[31m66.4 MB/s\u001b[0m eta \u001b[36m0:00:00\u001b[0m00:01\u001b[0m00:01\u001b[0m\n",
      "\u001b[?25hCollecting ffmpy\n",
      "  Downloading ffmpy-0.3.0.tar.gz (4.8 kB)\n",
      "  Preparing metadata (setup.py) ... \u001b[?25ldone\n",
      "\u001b[?25hRequirement already satisfied: fsspec in /usr/local/lib/python3.9/dist-packages (from gradio==3.11.0->-r requirements.txt (line 9)) (2023.1.0)\n",
      "Collecting fastapi\n",
      "  Downloading fastapi-0.100.0-py3-none-any.whl (65 kB)\n",
      "\u001b[2K     \u001b[90m━━━━━━━━━━━━━━━━━━━━━━━━━━━━━━━━━━━━━━━━\u001b[0m \u001b[32m65.7/65.7 kB\u001b[0m \u001b[31m14.6 MB/s\u001b[0m eta \u001b[36m0:00:00\u001b[0m\n",
      "\u001b[?25hRequirement already satisfied: markdown-it-py[linkify,plugins] in /usr/local/lib/python3.9/dist-packages (from gradio==3.11.0->-r requirements.txt (line 9)) (2.1.0)\n",
      "Collecting httpx\n",
      "  Downloading httpx-0.24.1-py3-none-any.whl (75 kB)\n",
      "\u001b[2K     \u001b[90m━━━━━━━━━━━━━━━━━━━━━━━━━━━━━━━━━━━━━━━━\u001b[0m \u001b[32m75.4/75.4 kB\u001b[0m \u001b[31m17.0 MB/s\u001b[0m eta \u001b[36m0:00:00\u001b[0m\n",
      "\u001b[?25hRequirement already satisfied: pandas in /usr/local/lib/python3.9/dist-packages (from gradio==3.11.0->-r requirements.txt (line 9)) (1.5.0)\n",
      "Requirement already satisfied: matplotlib in /usr/local/lib/python3.9/dist-packages (from gradio==3.11.0->-r requirements.txt (line 9)) (3.6.1)\n",
      "Collecting uvicorn\n",
      "  Downloading uvicorn-0.22.0-py3-none-any.whl (58 kB)\n",
      "\u001b[2K     \u001b[90m━━━━━━━━━━━━━━━━━━━━━━━━━━━━━━━━━━━━━━━━\u001b[0m \u001b[32m58.3/58.3 kB\u001b[0m \u001b[31m12.5 MB/s\u001b[0m eta \u001b[36m0:00:00\u001b[0m\n",
      "\u001b[?25hRequirement already satisfied: requests in /usr/local/lib/python3.9/dist-packages (from gradio==3.11.0->-r requirements.txt (line 9)) (2.28.2)\n",
      "Requirement already satisfied: aiohttp in /usr/local/lib/python3.9/dist-packages (from gradio==3.11.0->-r requirements.txt (line 9)) (3.8.3)\n",
      "Requirement already satisfied: pillow in /usr/local/lib/python3.9/dist-packages (from gradio==3.11.0->-r requirements.txt (line 9)) (9.2.0)\n",
      "Collecting python-multipart\n",
      "  Downloading python_multipart-0.0.6-py3-none-any.whl (45 kB)\n",
      "\u001b[2K     \u001b[90m━━━━━━━━━━━━━━━━━━━━━━━━━━━━━━━━━━━━━━━━\u001b[0m \u001b[32m45.7/45.7 kB\u001b[0m \u001b[31m10.5 MB/s\u001b[0m eta \u001b[36m0:00:00\u001b[0m\n",
      "\u001b[?25hCollecting h11<0.13,>=0.11\n",
      "  Downloading h11-0.12.0-py3-none-any.whl (54 kB)\n",
      "\u001b[2K     \u001b[90m━━━━━━━━━━━━━━━━━━━━━━━━━━━━━━━━━━━━━━━━\u001b[0m \u001b[32m54.9/54.9 kB\u001b[0m \u001b[31m13.4 MB/s\u001b[0m eta \u001b[36m0:00:00\u001b[0m\n",
      "\u001b[?25hRequirement already satisfied: jinja2 in /usr/local/lib/python3.9/dist-packages (from gradio==3.11.0->-r requirements.txt (line 9)) (3.1.2)\n",
      "Requirement already satisfied: pydantic in /usr/local/lib/python3.9/dist-packages (from gradio==3.11.0->-r requirements.txt (line 9)) (1.9.2)\n",
      "Collecting websockets>=10.0\n",
      "  Downloading websockets-11.0.3-cp39-cp39-manylinux_2_5_x86_64.manylinux1_x86_64.manylinux_2_17_x86_64.manylinux2014_x86_64.whl (129 kB)\n",
      "\u001b[2K     \u001b[90m━━━━━━━━━━━━━━━━━━━━━━━━━━━━━━━━━━━━━━\u001b[0m \u001b[32m129.7/129.7 kB\u001b[0m \u001b[31m23.0 MB/s\u001b[0m eta \u001b[36m0:00:00\u001b[0m\n",
      "\u001b[?25hCollecting pydub\n",
      "  Downloading pydub-0.25.1-py2.py3-none-any.whl (32 kB)\n",
      "Collecting pycryptodome\n",
      "  Downloading pycryptodome-3.18.0-cp35-abi3-manylinux_2_17_x86_64.manylinux2014_x86_64.whl (2.1 MB)\n",
      "\u001b[2K     \u001b[90m━━━━━━━━━━━━━━━━━━━━━━━━━━━━━━━━━━━━━━━━\u001b[0m \u001b[32m2.1/2.1 MB\u001b[0m \u001b[31m71.4 MB/s\u001b[0m eta \u001b[36m0:00:00\u001b[0m\n",
      "\u001b[?25hCollecting orjson\n",
      "  Downloading orjson-3.9.2-cp39-cp39-manylinux_2_17_x86_64.manylinux2014_x86_64.whl (138 kB)\n",
      "\u001b[2K     \u001b[90m━━━━━━━━━━━━━━━━━━━━━━━━━━━━━━━━━━━━━━\u001b[0m \u001b[32m138.6/138.6 kB\u001b[0m \u001b[31m29.7 MB/s\u001b[0m eta \u001b[36m0:00:00\u001b[0m\n",
      "\u001b[?25hCollecting paramiko\n",
      "  Downloading paramiko-3.2.0-py3-none-any.whl (224 kB)\n",
      "\u001b[2K     \u001b[90m━━━━━━━━━━━━━━━━━━━━━━━━━━━━━━━━━━━━━━\u001b[0m \u001b[32m224.2/224.2 kB\u001b[0m \u001b[31m37.4 MB/s\u001b[0m eta \u001b[36m0:00:00\u001b[0m\n",
      "\u001b[?25hRequirement already satisfied: pyyaml in /usr/local/lib/python3.9/dist-packages (from gradio==3.11.0->-r requirements.txt (line 9)) (5.4.1)\n",
      "Requirement already satisfied: packaging>=20.0 in /usr/local/lib/python3.9/dist-packages (from accelerate->-r requirements.txt (line 2)) (23.0)\n",
      "Requirement already satisfied: torch>=1.6.0 in /usr/local/lib/python3.9/dist-packages (from accelerate->-r requirements.txt (line 2)) (1.12.1+cu116)\n",
      "Requirement already satisfied: psutil in /usr/local/lib/python3.9/dist-packages (from accelerate->-r requirements.txt (line 2)) (5.9.4)\n",
      "Requirement already satisfied: tqdm>=4.27 in /usr/local/lib/python3.9/dist-packages (from transformers->-r requirements.txt (line 3)) (4.64.1)\n",
      "Requirement already satisfied: tokenizers!=0.11.3,<0.13,>=0.11.1 in /usr/local/lib/python3.9/dist-packages (from transformers->-r requirements.txt (line 3)) (0.12.1)\n",
      "Requirement already satisfied: huggingface-hub<1.0,>=0.1.0 in /usr/local/lib/python3.9/dist-packages (from transformers->-r requirements.txt (line 3)) (0.12.0)\n",
      "Requirement already satisfied: regex!=2019.12.17 in /usr/local/lib/python3.9/dist-packages (from transformers->-r requirements.txt (line 3)) (2022.10.31)\n",
      "Requirement already satisfied: filelock in /usr/local/lib/python3.9/dist-packages (from transformers->-r requirements.txt (line 3)) (3.9.0)\n",
      "Requirement already satisfied: importlib-metadata in /usr/local/lib/python3.9/dist-packages (from diffusers==0.18.0.dev0->-r requirements.txt (line 10)) (6.0.0)\n",
      "Collecting huggingface-hub<1.0,>=0.1.0\n",
      "  Downloading huggingface_hub-0.16.4-py3-none-any.whl (268 kB)\n",
      "\u001b[2K     \u001b[90m━━━━━━━━━━━━━━━━━━━━━━━━━━━━━━━━━━━━━━\u001b[0m \u001b[32m268.8/268.8 kB\u001b[0m \u001b[31m43.9 MB/s\u001b[0m eta \u001b[36m0:00:00\u001b[0m\n",
      "\u001b[?25hRequirement already satisfied: typing-extensions>=3.7.4.3 in /usr/local/lib/python3.9/dist-packages (from huggingface-hub<1.0,>=0.1.0->transformers->-r requirements.txt (line 3)) (4.4.0)\n",
      "Requirement already satisfied: yarl<2.0,>=1.0 in /usr/local/lib/python3.9/dist-packages (from aiohttp->gradio==3.11.0->-r requirements.txt (line 9)) (1.8.2)\n",
      "Requirement already satisfied: attrs>=17.3.0 in /usr/local/lib/python3.9/dist-packages (from aiohttp->gradio==3.11.0->-r requirements.txt (line 9)) (18.2.0)\n",
      "Requirement already satisfied: multidict<7.0,>=4.5 in /usr/local/lib/python3.9/dist-packages (from aiohttp->gradio==3.11.0->-r requirements.txt (line 9)) (6.0.4)\n",
      "Requirement already satisfied: frozenlist>=1.1.1 in /usr/local/lib/python3.9/dist-packages (from aiohttp->gradio==3.11.0->-r requirements.txt (line 9)) (1.3.3)\n",
      "Requirement already satisfied: charset-normalizer<3.0,>=2.0 in /usr/local/lib/python3.9/dist-packages (from aiohttp->gradio==3.11.0->-r requirements.txt (line 9)) (2.1.1)\n",
      "Requirement already satisfied: aiosignal>=1.1.2 in /usr/local/lib/python3.9/dist-packages (from aiohttp->gradio==3.11.0->-r requirements.txt (line 9)) (1.3.1)\n",
      "Requirement already satisfied: async-timeout<5.0,>=4.0.0a3 in /usr/local/lib/python3.9/dist-packages (from aiohttp->gradio==3.11.0->-r requirements.txt (line 9)) (4.0.2)\n",
      "Collecting typing-extensions>=3.7.4.3\n",
      "  Downloading typing_extensions-4.7.1-py3-none-any.whl (33 kB)\n",
      "Collecting starlette<0.28.0,>=0.27.0\n",
      "  Downloading starlette-0.27.0-py3-none-any.whl (66 kB)\n",
      "\u001b[2K     \u001b[90m━━━━━━━━━━━━━━━━━━━━━━━━━━━━━━━━━━━━━━━━\u001b[0m \u001b[32m67.0/67.0 kB\u001b[0m \u001b[31m15.4 MB/s\u001b[0m eta \u001b[36m0:00:00\u001b[0m\n",
      "\u001b[?25hRequirement already satisfied: idna in /usr/lib/python3/dist-packages (from httpx->gradio==3.11.0->-r requirements.txt (line 9)) (2.8)\n",
      "Collecting httpcore<0.18.0,>=0.15.0\n",
      "  Downloading httpcore-0.17.3-py3-none-any.whl (74 kB)\n",
      "\u001b[2K     \u001b[90m━━━━━━━━━━━━━━━━━━━━━━━━━━━━━━━━━━━━━━━━\u001b[0m \u001b[32m74.5/74.5 kB\u001b[0m \u001b[31m18.6 MB/s\u001b[0m eta \u001b[36m0:00:00\u001b[0m\n",
      "\u001b[?25hRequirement already satisfied: sniffio in /usr/local/lib/python3.9/dist-packages (from httpx->gradio==3.11.0->-r requirements.txt (line 9)) (1.3.0)\n",
      "Requirement already satisfied: certifi in /usr/lib/python3/dist-packages (from httpx->gradio==3.11.0->-r requirements.txt (line 9)) (2019.11.28)\n",
      "Requirement already satisfied: zipp>=0.5 in /usr/local/lib/python3.9/dist-packages (from importlib-metadata->diffusers==0.18.0.dev0->-r requirements.txt (line 10)) (3.11.0)\n",
      "Requirement already satisfied: MarkupSafe>=2.0 in /usr/local/lib/python3.9/dist-packages (from jinja2->gradio==3.11.0->-r requirements.txt (line 9)) (2.1.2)\n",
      "Requirement already satisfied: mdurl~=0.1 in /usr/local/lib/python3.9/dist-packages (from markdown-it-py[linkify,plugins]->gradio==3.11.0->-r requirements.txt (line 9)) (0.1.2)\n",
      "Collecting linkify-it-py~=1.0\n",
      "  Downloading linkify_it_py-1.0.3-py3-none-any.whl (19 kB)\n",
      "Collecting mdit-py-plugins\n",
      "  Downloading mdit_py_plugins-0.4.0-py3-none-any.whl (54 kB)\n",
      "\u001b[2K     \u001b[90m━━━━━━━━━━━━━━━━━━━━━━━━━━━━━━━━━━━━━━━━\u001b[0m \u001b[32m54.1/54.1 kB\u001b[0m \u001b[31m12.9 MB/s\u001b[0m eta \u001b[36m0:00:00\u001b[0m\n",
      "\u001b[?25hRequirement already satisfied: kiwisolver>=1.0.1 in /usr/local/lib/python3.9/dist-packages (from matplotlib->gradio==3.11.0->-r requirements.txt (line 9)) (1.4.4)\n",
      "Requirement already satisfied: cycler>=0.10 in /usr/local/lib/python3.9/dist-packages (from matplotlib->gradio==3.11.0->-r requirements.txt (line 9)) (0.11.0)\n",
      "Requirement already satisfied: pyparsing>=2.2.1 in /usr/local/lib/python3.9/dist-packages (from matplotlib->gradio==3.11.0->-r requirements.txt (line 9)) (3.0.9)\n",
      "Requirement already satisfied: python-dateutil>=2.7 in /usr/local/lib/python3.9/dist-packages (from matplotlib->gradio==3.11.0->-r requirements.txt (line 9)) (2.8.2)\n",
      "Requirement already satisfied: contourpy>=1.0.1 in /usr/local/lib/python3.9/dist-packages (from matplotlib->gradio==3.11.0->-r requirements.txt (line 9)) (1.0.7)\n",
      "Requirement already satisfied: fonttools>=4.22.0 in /usr/local/lib/python3.9/dist-packages (from matplotlib->gradio==3.11.0->-r requirements.txt (line 9)) (4.38.0)\n",
      "Requirement already satisfied: pytz>=2020.1 in /usr/local/lib/python3.9/dist-packages (from pandas->gradio==3.11.0->-r requirements.txt (line 9)) (2022.7.1)\n",
      "Collecting bcrypt>=3.2\n",
      "  Downloading bcrypt-4.0.1-cp36-abi3-manylinux_2_28_x86_64.whl (593 kB)\n",
      "\u001b[2K     \u001b[90m━━━━━━━━━━━━━━━━━━━━━━━━━━━━━━━━━━━━━━\u001b[0m \u001b[32m593.7/593.7 kB\u001b[0m \u001b[31m60.5 MB/s\u001b[0m eta \u001b[36m0:00:00\u001b[0m\n",
      "\u001b[?25hCollecting pynacl>=1.5\n",
      "  Downloading PyNaCl-1.5.0-cp36-abi3-manylinux_2_17_x86_64.manylinux2014_x86_64.manylinux_2_24_x86_64.whl (856 kB)\n",
      "\u001b[2K     \u001b[90m━━━━━━━━━━━━━━━━━━━━━━━━━━━━━━━━━━━━━━\u001b[0m \u001b[32m856.7/856.7 kB\u001b[0m \u001b[31m65.8 MB/s\u001b[0m eta \u001b[36m0:00:00\u001b[0m\n",
      "\u001b[?25hCollecting cryptography>=3.3\n",
      "  Downloading cryptography-41.0.1-cp37-abi3-manylinux_2_28_x86_64.whl (4.3 MB)\n",
      "\u001b[2K     \u001b[90m━━━━━━━━━━━━━━━━━━━━━━━━━━━━━━━━━━━━━━━━\u001b[0m \u001b[32m4.3/4.3 MB\u001b[0m \u001b[31m72.8 MB/s\u001b[0m eta \u001b[36m0:00:00\u001b[0mta \u001b[36m0:00:01\u001b[0m\n",
      "\u001b[?25hRequirement already satisfied: urllib3<1.27,>=1.21.1 in /usr/local/lib/python3.9/dist-packages (from requests->gradio==3.11.0->-r requirements.txt (line 9)) (1.26.14)\n",
      "Requirement already satisfied: click>=7.0 in /usr/local/lib/python3.9/dist-packages (from uvicorn->gradio==3.11.0->-r requirements.txt (line 9)) (8.1.3)\n",
      "Requirement already satisfied: cffi>=1.12 in /usr/local/lib/python3.9/dist-packages (from cryptography>=3.3->paramiko->gradio==3.11.0->-r requirements.txt (line 9)) (1.15.1)\n",
      "Requirement already satisfied: anyio<5.0,>=3.0 in /usr/local/lib/python3.9/dist-packages (from httpcore<0.18.0,>=0.15.0->httpx->gradio==3.11.0->-r requirements.txt (line 9)) (3.6.2)\n",
      "Collecting httpcore<0.18.0,>=0.15.0\n",
      "  Downloading httpcore-0.17.2-py3-none-any.whl (72 kB)\n",
      "\u001b[2K     \u001b[90m━━━━━━━━━━━━━━━━━━━━━━━━━━━━━━━━━━━━━━━━\u001b[0m \u001b[32m72.5/72.5 kB\u001b[0m \u001b[31m18.5 MB/s\u001b[0m eta \u001b[36m0:00:00\u001b[0m\n",
      "\u001b[?25h  Downloading httpcore-0.17.1-py3-none-any.whl (70 kB)\n",
      "\u001b[2K     \u001b[90m━━━━━━━━━━━━━━━━━━━━━━━━━━━━━━━━━━━━━━━━\u001b[0m \u001b[32m70.9/70.9 kB\u001b[0m \u001b[31m15.1 MB/s\u001b[0m eta \u001b[36m0:00:00\u001b[0m\n",
      "\u001b[?25h  Downloading httpcore-0.17.0-py3-none-any.whl (70 kB)\n",
      "\u001b[2K     \u001b[90m━━━━━━━━━━━━━━━━━━━━━━━━━━━━━━━━━━━━━━━━\u001b[0m \u001b[32m70.6/70.6 kB\u001b[0m \u001b[31m18.5 MB/s\u001b[0m eta \u001b[36m0:00:00\u001b[0m\n",
      "\u001b[?25h  Downloading httpcore-0.16.3-py3-none-any.whl (69 kB)\n",
      "\u001b[2K     \u001b[90m━━━━━━━━━━━━━━━━━━━━━━━━━━━━━━━━━━━━━━━━\u001b[0m \u001b[32m69.6/69.6 kB\u001b[0m \u001b[31m15.0 MB/s\u001b[0m eta \u001b[36m0:00:00\u001b[0m\n",
      "\u001b[?25h  Downloading httpcore-0.16.2-py3-none-any.whl (68 kB)\n",
      "\u001b[2K     \u001b[90m━━━━━━━━━━━━━━━━━━━━━━━━━━━━━━━━━━━━━━━━\u001b[0m \u001b[32m69.0/69.0 kB\u001b[0m \u001b[31m16.6 MB/s\u001b[0m eta \u001b[36m0:00:00\u001b[0m\n",
      "\u001b[?25h  Downloading httpcore-0.16.1-py3-none-any.whl (68 kB)\n",
      "\u001b[2K     \u001b[90m━━━━━━━━━━━━━━━━━━━━━━━━━━━━━━━━━━━━━━━━\u001b[0m \u001b[32m68.7/68.7 kB\u001b[0m \u001b[31m16.9 MB/s\u001b[0m eta \u001b[36m0:00:00\u001b[0m\n",
      "\u001b[?25h  Downloading httpcore-0.16.0-py3-none-any.whl (68 kB)\n",
      "\u001b[2K     \u001b[90m━━━━━━━━━━━━━━━━━━━━━━━━━━━━━━━━━━━━━━━━\u001b[0m \u001b[32m68.7/68.7 kB\u001b[0m \u001b[31m17.0 MB/s\u001b[0m eta \u001b[36m0:00:00\u001b[0m\n",
      "\u001b[?25h  Downloading httpcore-0.15.0-py3-none-any.whl (68 kB)\n",
      "\u001b[2K     \u001b[90m━━━━━━━━━━━━━━━━━━━━━━━━━━━━━━━━━━━━━━━━\u001b[0m \u001b[32m68.4/68.4 kB\u001b[0m \u001b[31m17.5 MB/s\u001b[0m eta \u001b[36m0:00:00\u001b[0m\n",
      "\u001b[?25hCollecting uc-micro-py\n",
      "  Downloading uc_micro_py-1.0.2-py3-none-any.whl (6.2 kB)\n",
      "Requirement already satisfied: six>=1.5 in /usr/lib/python3/dist-packages (from python-dateutil>=2.7->matplotlib->gradio==3.11.0->-r requirements.txt (line 9)) (1.14.0)\n",
      "Requirement already satisfied: pycparser in /usr/local/lib/python3.9/dist-packages (from cffi>=1.12->cryptography>=3.3->paramiko->gradio==3.11.0->-r requirements.txt (line 9)) (2.21)\n",
      "Building wheels for collected packages: diffusers, ffmpy\n",
      "  Building wheel for diffusers (pyproject.toml) ... \u001b[?25ldone\n",
      "\u001b[?25h  Created wheel for diffusers: filename=diffusers-0.18.0.dev0-py3-none-any.whl size=1247849 sha256=91f0a5c7789f10c11f38a7919b1701013c29641f1e523c4046c5784b336eb32a\n",
      "  Stored in directory: /tmp/pip-ephem-wheel-cache-e351meym/wheels/3a/75/ac/2724a3c688984d6b999006bb9f6b10275f59cf50377b74c585\n",
      "  Building wheel for ffmpy (setup.py) ... \u001b[?25ldone\n",
      "\u001b[?25h  Created wheel for ffmpy: filename=ffmpy-0.3.0-py3-none-any.whl size=4693 sha256=049bd00ba125d77d5de27c05bdbc3dd7234efd4a6e40abfcef86b2a9ef61a2d3\n",
      "  Stored in directory: /root/.cache/pip/wheels/8d/02/a5/43ebb208903df15c239ac247db73fa9483efb792f74a0e445a\n",
      "Successfully built diffusers ffmpy\n",
      "Installing collected packages: safetensors, pydub, ffmpy, websockets, uc-micro-py, typing-extensions, python-multipart, python-dotenv, pycryptodome, orjson, h11, bcrypt, uvicorn, starlette, pynacl, mdit-py-plugins, linkify-it-py, huggingface-hub, httpcore, cryptography, paramiko, invisible-watermark, httpx, fastapi, diffusers, accelerate, gradio\n",
      "  Attempting uninstall: typing-extensions\n",
      "    Found existing installation: typing_extensions 4.4.0\n",
      "    Uninstalling typing_extensions-4.4.0:\n",
      "      Successfully uninstalled typing_extensions-4.4.0\n",
      "  Attempting uninstall: huggingface-hub\n",
      "    Found existing installation: huggingface-hub 0.12.0\n",
      "    Uninstalling huggingface-hub-0.12.0:\n",
      "      Successfully uninstalled huggingface-hub-0.12.0\n",
      "Successfully installed accelerate-0.20.3 bcrypt-4.0.1 cryptography-41.0.1 diffusers-0.18.0.dev0 fastapi-0.100.0 ffmpy-0.3.0 gradio-3.11.0 h11-0.12.0 httpcore-0.15.0 httpx-0.24.1 huggingface-hub-0.16.4 invisible-watermark-0.2.0 linkify-it-py-1.0.3 mdit-py-plugins-0.4.0 orjson-3.9.2 paramiko-3.2.0 pycryptodome-3.18.0 pydub-0.25.1 pynacl-1.5.0 python-dotenv-1.0.0 python-multipart-0.0.6 safetensors-0.3.1 starlette-0.27.0 typing-extensions-4.7.1 uc-micro-py-1.0.2 uvicorn-0.22.0 websockets-11.0.3\n",
      "\u001b[33mWARNING: Running pip as the 'root' user can result in broken permissions and conflicting behaviour with the system package manager. It is recommended to use a virtual environment instead: https://pip.pypa.io/warnings/venv\u001b[0m\u001b[33m\n",
      "\u001b[0m"
     ]
    }
   ],
   "metadata": {
    "colab": {
     "base_uri": "https://localhost:8080/"
    },
    "execution": {
     "iopub.execute_input": "2023-07-07T22:27:22.615100Z",
     "iopub.status.busy": "2023-07-07T22:27:22.614745Z",
     "iopub.status.idle": "2023-07-07T22:27:44.815431Z",
     "shell.execute_reply": "2023-07-07T22:27:44.814306Z",
     "shell.execute_reply.started": "2023-07-07T22:27:22.615074Z"
    },
    "id": "u9v9keo_Ob1u",
    "outputId": "01076970-4ad6-4eb4-f7f7-f896b207197e"
   }
  },
  {
   "cell_type": "markdown",
   "source": [
    "## Get the model checkpoints (optional)\n"
   ],
   "metadata": {}
  },
  {
   "cell_type": "code",
   "execution_count": null,
   "source": [
    "!apt-get update \n",
    "!apt-get install git-lfs\n",
    "!mkdir SDXL\n",
    "%cd SDXL\n",
    "!git-lfs clone https://huggingface.co/stabilityai/stable-diffusion-xl-base-0.9\n",
    "!git-lfs clone https://huggingface.co/stabilityai/stable-diffusion-xl-refiner-0.9\n",
    "%cd /notebooks"
   ],
   "outputs": [],
   "metadata": {}
  },
  {
   "cell_type": "markdown",
   "source": [
    "## Run the cell below and click on the public link to view the demo.\n",
    "The link is also sharable as long as the colab is running."
   ],
   "metadata": {
    "id": "Ukiyc7GkTNY9"
   }
  },
  {
   "cell_type": "code",
   "execution_count": 6,
   "source": [
    "# Refiner is disabled by default due to a lack of system memory in the free tier of Colab. You can enable it by setting `ENABLE_REFINER=true`.\n",
    "# !ACCESS_TOKEN={access_token} SHARE=true ENABLE_REFINER=true python app.py\n",
    "!PYTORCH_CUDA_ALLOC_CONF=max_split_size_mb:128 SDXL_MODEL_DIR=\"SDXL/\" ACCESS_TOKEN={access_token} SHARE=true ENABLE_REFINER=false python app.py"
   ],
   "outputs": [
    {
     "output_type": "stream",
     "name": "stdout",
     "text": [
      "Loading model /notebooks/SDXL/stable-diffusion-xl-base-0.9\n",
      "/usr/local/lib/python3.9/dist-packages/gradio/layouts.py:75: UserWarning: mobile_collapse is no longer supported.\n",
      "  warnings.warn(\"mobile_collapse is no longer supported.\")\n",
      "/usr/local/lib/python3.9/dist-packages/gradio/components.py:198: UserWarning: 'rounded' styling is no longer supported. To round adjacent components together, place them in a Column(variant='box').\n",
      "  warnings.warn(\n",
      "/usr/local/lib/python3.9/dist-packages/gradio/components.py:216: UserWarning: 'border' styling is no longer supported. To place adjacent components in a shared border, place them in a Column(variant='box').\n",
      "  warnings.warn(\n",
      "/usr/local/lib/python3.9/dist-packages/gradio/components.py:207: UserWarning: 'margin' styling is no longer supported. To place adjacent components together without margin, place them in a Column(variant='box').\n",
      "  warnings.warn(\n",
      "Running on local URL:  http://127.0.0.1:7860\n",
      "Running on public URL: https://2140095ab2b7ff2a.gradio.app\n",
      "\n",
      "This share link expires in 72 hours. For free permanent hosting and GPU upgrades (NEW!), check out Spaces: https://huggingface.co/spaces\n",
      "^C\n",
      "Keyboard interruption in main thread... closing server.\n"
     ]
    }
   ],
   "metadata": {
    "colab": {
     "base_uri": "https://localhost:8080/"
    },
    "execution": {
     "iopub.execute_input": "2023-07-07T22:38:08.364072Z",
     "iopub.status.busy": "2023-07-07T22:38:08.363300Z",
     "iopub.status.idle": "2023-07-07T22:39:08.084346Z",
     "shell.execute_reply": "2023-07-07T22:39:08.083203Z",
     "shell.execute_reply.started": "2023-07-07T22:38:08.364039Z"
    },
    "id": "QqV3rnyiPBhR",
    "outputId": "76598d10-b536-43c1-fbac-cef91f28f801"
   }
  },
  {
   "cell_type": "code",
   "execution_count": null,
   "source": [],
   "outputs": [],
   "metadata": {}
  }
 ],
 "metadata": {
  "accelerator": "GPU",
  "colab": {
   "gpuType": "T4",
   "provenance": []
  },
  "kernelspec": {
   "display_name": "Python 3 (ipykernel)",
   "language": "python",
   "name": "python3"
  },
  "language_info": {
   "codemirror_mode": {
    "name": "ipython",
    "version": 3
   },
   "file_extension": ".py",
   "mimetype": "text/x-python",
   "name": "python",
   "nbconvert_exporter": "python",
   "pygments_lexer": "ipython3",
   "version": "3.9.16"
  }
 },
 "nbformat": 4,
 "nbformat_minor": 4
}